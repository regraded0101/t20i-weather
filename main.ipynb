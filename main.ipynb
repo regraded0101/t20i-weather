{
 "cells": [
  {
   "cell_type": "code",
   "execution_count": 3,
   "metadata": {},
   "outputs": [],
   "source": [
    "import sys\n",
    "from weather_au import api"
   ]
  },
  {
   "cell_type": "code",
   "execution_count": 5,
   "metadata": {},
   "outputs": [],
   "source": [
    "w = api.WeatherApi(search=\"perth\")"
   ]
  },
  {
   "cell_type": "code",
   "execution_count": 6,
   "metadata": {},
   "outputs": [
    {
     "data": {
      "text/plain": [
       "<bound method WeatherApi.observations of WeatherApi(geohash='qd66hr', search='Perth WA', debug=0), timestamp=2022-11-11T21:22:12Z>"
      ]
     },
     "execution_count": 6,
     "metadata": {},
     "output_type": "execute_result"
    }
   ],
   "source": [
    "w.observations"
   ]
  },
  {
   "cell_type": "code",
   "execution_count": 9,
   "metadata": {},
   "outputs": [
    {
     "name": "stdout",
     "output_type": "stream",
     "text": [
      "<weather_au.summary.Summary object at 0x7fdfc8a99db0>\n"
     ]
    }
   ],
   "source": [
    "from weather_au import summary\n",
    "\n",
    "print(summary.Summary(search='parkville+vic'))"
   ]
  },
  {
   "cell_type": "code",
   "execution_count": 16,
   "metadata": {},
   "outputs": [
    {
     "name": "stdout",
     "output_type": "stream",
     "text": [
      "            tavg  tmin  tmax  prcp  snow   wdir  wspd   wpgt    pres  tsun\n",
      "time                                                                      \n",
      "2022-10-01  15.4  11.1  19.8   0.0   0.0  303.0   4.1    NaN  1016.9   NaN\n",
      "2022-10-02  16.3  11.1  21.5   0.0   0.0  295.0   3.6    NaN  1014.9   NaN\n",
      "2022-10-03  16.5  11.2  21.9   0.0   0.0  308.0   3.3    NaN  1017.5   NaN\n",
      "2022-10-04  15.5  11.3  19.8   0.0   NaN  113.0   7.1    NaN  1017.3   NaN\n",
      "2022-10-05  15.6  12.0  19.3   0.0   NaN   39.0   5.7    NaN  1021.5   NaN\n",
      "2022-10-06  15.5  10.5  20.5   0.0   NaN  307.0   3.1    NaN  1020.9   NaN\n",
      "2022-10-07  16.8  11.5  22.0   0.0   NaN  224.0   2.4    NaN  1021.8   NaN\n",
      "2022-10-08  15.3  10.8  19.8   0.0   NaN  317.0   2.9    NaN  1021.4   NaN\n",
      "2022-10-09  15.0  10.4  19.7   0.0   0.0  271.0   3.9    NaN  1020.2   NaN\n",
      "2022-10-10  14.9  10.9  18.9   0.0   NaN  216.0   7.3   63.0  1016.6   NaN\n",
      "2022-10-11  12.3   8.6  16.0   0.0   NaN  190.0   3.7   56.0  1021.5   NaN\n",
      "2022-10-12  12.2   8.4  16.0   0.0   NaN  314.0   5.4    NaN  1023.1   NaN\n",
      "2022-10-13  14.0   9.1  18.9   0.0   NaN  292.0   3.1    NaN  1020.7   NaN\n",
      "2022-10-14  13.9   9.0  18.8   0.0   NaN  331.0   3.4    NaN  1016.7   NaN\n",
      "2022-10-15  14.6   9.3  19.9   0.0   NaN  313.0   4.5    NaN  1015.0   NaN\n",
      "2022-10-16  14.8   9.2  20.3   0.0   NaN  326.0   2.8    NaN  1014.2   NaN\n",
      "2022-10-17  14.5  11.3  17.6   0.0   NaN  107.0   8.9    NaN  1019.3   NaN\n",
      "2022-10-18  13.3   9.4  17.2   0.0   NaN  300.0   3.5    NaN  1023.2   NaN\n",
      "2022-10-19  12.8   8.8  16.8   0.0   0.0  215.0   2.9    NaN  1025.3   NaN\n",
      "2022-10-20  13.6  10.6  16.7   0.0   0.0  136.0   5.4   42.0  1018.2   NaN\n",
      "2022-10-21  10.1   8.0  12.2   3.3   0.0  271.0   8.5   47.0  1009.1   NaN\n",
      "2022-10-22   9.8   8.1  11.5   0.0   0.0  136.0   4.0    NaN  1006.8   NaN\n",
      "2022-10-23   8.9   6.0  11.8   3.2   NaN   89.0   6.5    NaN  1017.7   NaN\n",
      "2022-10-24   8.9   6.9  10.9  25.6   0.0  356.0  11.4   48.0  1013.3   NaN\n",
      "2022-10-25   7.7   6.2   9.2  26.6   NaN  168.0  11.5   49.0  1014.3   NaN\n",
      "2022-10-26   7.3   5.1   9.5   8.5   NaN  259.0   9.4   39.0  1015.2   NaN\n",
      "2022-10-27   9.6   7.3  12.0  26.0   0.0  127.0  11.8   55.0  1012.9   NaN\n",
      "2022-10-28  11.1   8.4  13.8   2.3   0.0   95.0   8.0    NaN  1018.6   NaN\n",
      "2022-10-29  10.3   9.4  11.1   0.0   0.0   86.0   8.5   38.0  1023.4   NaN\n",
      "2022-10-30   9.8   9.2  10.5  58.9   0.0   97.0   9.7   41.0  1016.1   NaN\n",
      "2022-10-31   8.8   5.8  11.8   5.0   0.0  308.0   6.6    NaN  1008.4   NaN\n",
      "2022-11-01   7.0   4.6   9.5   0.3   0.0  111.0   4.9    NaN  1006.7   NaN\n",
      "2022-11-02   7.0   3.5  10.4   0.0   0.0  307.0   5.7    NaN  1014.1   NaN\n",
      "2022-11-03   4.3   2.9   5.7  23.0   0.0   67.0  11.7   36.0  1019.5   NaN\n",
      "2022-11-04   6.7   3.9   9.5  31.6   0.0   63.0  12.5   94.0  1000.8   NaN\n",
      "2022-11-05   7.0   4.6   9.5   0.0   0.0  293.0  17.4   74.0  1006.9   NaN\n",
      "2022-11-06   4.3   2.4   6.1  15.8   0.0   69.0  13.1   62.0  1000.8   NaN\n",
      "2022-11-07   3.3   1.6   4.9   0.0   0.0  136.0   4.3   44.0  1004.2   NaN\n",
      "2022-11-08   3.1   0.1   6.1   1.5  20.0  206.0   3.7  172.8  1015.2   NaN\n",
      "2022-11-09   2.2  -0.3   5.2   0.0   NaN  128.0   4.6    NaN  1019.4   NaN\n",
      "2022-11-10   4.0   1.1   5.2   0.0   NaN   78.0   8.4    NaN  1027.9   NaN\n",
      "2022-11-11   6.4   4.7   8.6   0.0   NaN  316.0   5.1    NaN  1021.4   NaN\n"
     ]
    }
   ],
   "source": [
    "from datetime import datetime\n",
    "from meteostat import Point, Daily\n",
    "\n",
    "start = datetime(2022, 10, 1)\n",
    "end = datetime(2022, 11, 11)\n",
    "vancouver = Point(49.2497, -123.1193, 70)\n",
    "data = Daily(vancouver, start, end)\n",
    "data = data.fetch()\n",
    "print(data)"
   ]
  },
  {
   "cell_type": "code",
   "execution_count": 29,
   "metadata": {},
   "outputs": [
    {
     "name": "stdout",
     "output_type": "stream",
     "text": [
      "Perth, City of Perth, Western Australia, 6000, Australia\n",
      "(-31.9558964, 115.8605801)\n"
     ]
    }
   ],
   "source": [
    "from geopy.geocoders import Nominatim\n",
    "\n",
    "loc = 'Perth, Australia'\n",
    "geolocator = Nominatim(user_agent=\"my_request\")\n",
    "location = geolocator.geocode(loc)\n",
    "\n",
    "#printing address and coordinates\n",
    "print(location.address)\n",
    "print((location.latitude, location.longitude))"
   ]
  },
  {
   "cell_type": "code",
   "execution_count": 24,
   "metadata": {},
   "outputs": [
    {
     "name": "stdout",
     "output_type": "stream",
     "text": [
      "Cleveland, Ohio, United States\n"
     ]
    }
   ],
   "source": []
  },
  {
   "cell_type": "code",
   "execution_count": null,
   "metadata": {},
   "outputs": [],
   "source": [
    "gn."
   ]
  }
 ],
 "metadata": {
  "kernelspec": {
   "display_name": "Python 3.10.4 64-bit",
   "language": "python",
   "name": "python3"
  },
  "language_info": {
   "codemirror_mode": {
    "name": "ipython",
    "version": 3
   },
   "file_extension": ".py",
   "mimetype": "text/x-python",
   "name": "python",
   "nbconvert_exporter": "python",
   "pygments_lexer": "ipython3",
   "version": "3.10.4"
  },
  "orig_nbformat": 4,
  "vscode": {
   "interpreter": {
    "hash": "3ad933181bd8a04b432d3370b9dc3b0662ad032c4dfaa4e4f1596c548f763858"
   }
  }
 },
 "nbformat": 4,
 "nbformat_minor": 2
}
