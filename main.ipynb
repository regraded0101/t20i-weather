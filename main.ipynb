{
 "cells": [
  {
   "cell_type": "code",
   "execution_count": null,
   "metadata": {},
   "outputs": [],
   "source": [
    "import sys\n",
    "from weather_au import api"
   ]
  },
  {
   "cell_type": "code",
   "execution_count": null,
   "metadata": {},
   "outputs": [],
   "source": [
    "w = api.WeatherApi(search=\"perth\")"
   ]
  },
  {
   "cell_type": "code",
   "execution_count": null,
   "metadata": {},
   "outputs": [],
   "source": [
    "w.observations"
   ]
  },
  {
   "cell_type": "code",
   "execution_count": null,
   "metadata": {},
   "outputs": [],
   "source": [
    "from weather_au import summary\n",
    "\n",
    "print(summary.Summary(search='parkville+vic'))"
   ]
  },
  {
   "cell_type": "code",
   "execution_count": null,
   "metadata": {},
   "outputs": [],
   "source": [
    "from datetime import datetime\n",
    "from meteostat import Point, Daily\n",
    "\n",
    "start = datetime(2022, 10, 1)\n",
    "end = datetime(2022, 11, 11)\n",
    "vancouver = Point(49.2497, -123.1193, 70)\n",
    "data = Daily(vancouver, start, end)\n",
    "data = data.fetch()\n",
    "print(data)"
   ]
  },
  {
   "cell_type": "code",
   "execution_count": null,
   "metadata": {},
   "outputs": [],
   "source": [
    "from geopy.geocoders import Nominatim\n",
    "\n",
    "loc = 'Perth, Australia'\n",
    "geolocator = Nominatim(user_agent=\"my_request\")\n",
    "location = geolocator.geocode(loc)\n",
    "\n",
    "#printing address and coordinates\n",
    "print(location.address)\n",
    "print((location.latitude, location.longitude))"
   ]
  },
  {
   "cell_type": "code",
   "execution_count": null,
   "metadata": {},
   "outputs": [],
   "source": [
    "pd.read_csv('t20i-matches.csv')"
   ]
  },
  {
   "cell_type": "code",
   "execution_count": null,
   "metadata": {},
   "outputs": [],
   "source": [
    "import pandas as pd"
   ]
  },
  {
   "cell_type": "code",
   "execution_count": null,
   "metadata": {},
   "outputs": [],
   "source": [
    "matches_df = pd.read_csv('t20i-matches.csv')\n",
    "matches_df = matches_df[['Date', 'Stadium']]\n",
    "matches_df['Date'] = pd.to_datetime(matches_df['Date'], format = '%d-%b-%Y')\n"
   ]
  },
  {
   "cell_type": "code",
   "execution_count": null,
   "metadata": {},
   "outputs": [],
   "source": [
    "location_dict = {}\n",
    "for i, ground in enumerate(matches_df['Stadium'].unique()):\n",
    "    city = ground.split(',')[1]\n",
    "    location = geolocator.geocode(city)  \n",
    "    location_dict[ground] = [location.latitude, location.longitude]  \n",
    "\n",
    "\n",
    "location_dict "
   ]
  },
  {
   "cell_type": "code",
   "execution_count": null,
   "metadata": {},
   "outputs": [],
   "source": [
    "location_df = pd.DataFrame.from_dict(location_dict, orient = 'index').reset_index()\n",
    "location_df.columns = ['Stadium', 'latitude', 'longitude']"
   ]
  },
  {
   "cell_type": "code",
   "execution_count": null,
   "metadata": {},
   "outputs": [],
   "source": [
    "matches_df = matches_df.merge(location_df, how = 'left', on = 'Stadium')"
   ]
  },
  {
   "cell_type": "code",
   "execution_count": null,
   "metadata": {},
   "outputs": [],
   "source": [
    "prcp_list = []\n",
    "\n",
    "for i in range(0,len(matches_df)):\n",
    "    start_date = matches_df['Date'][i]\n",
    "    end_date = start_date\n",
    "    latitude = matches_df['latitude'][i]\n",
    "    longitude = matches_df['longitude'][i]\n",
    "\n",
    "    ground_point = Point(latitude, longitude)\n",
    "    data = Daily(ground_point, start_date, end_date)\n",
    "\n",
    "    prcp_value = data.fetch()['prcp'][0]\n",
    "    prcp_list.append([matches_df['Stadium'][i], start_date, prcp_value])\n",
    "    \n"
   ]
  },
  {
   "cell_type": "code",
   "execution_count": null,
   "metadata": {},
   "outputs": [],
   "source": [
    "prcp_df = pd.DataFrame(prcp_list)\n",
    "prcp_df.columns = ['Ground', 'Date', 'Precipitation']"
   ]
  },
  {
   "cell_type": "code",
   "execution_count": null,
   "metadata": {},
   "outputs": [],
   "source": [
    "prcp_df"
   ]
  },
  {
   "cell_type": "code",
   "execution_count": null,
   "metadata": {},
   "outputs": [],
   "source": []
  }
 ],
 "metadata": {
  "kernelspec": {
   "display_name": "Python 3.10.4 64-bit",
   "language": "python",
   "name": "python3"
  },
  "language_info": {
   "codemirror_mode": {
    "name": "ipython",
    "version": 3
   },
   "file_extension": ".py",
   "mimetype": "text/x-python",
   "name": "python",
   "nbconvert_exporter": "python",
   "pygments_lexer": "ipython3",
   "version": "3.10.4"
  },
  "vscode": {
   "interpreter": {
    "hash": "3ad933181bd8a04b432d3370b9dc3b0662ad032c4dfaa4e4f1596c548f763858"
   }
  }
 },
 "nbformat": 4,
 "nbformat_minor": 2
}
